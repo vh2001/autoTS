{
 "cells": [
  {
   "cell_type": "code",
   "execution_count": 1,
   "metadata": {},
   "outputs": [],
   "source": [
    "import pandas as pd"
   ]
  },
  {
   "cell_type": "code",
   "execution_count": 8,
   "metadata": {},
   "outputs": [
    {
     "data": {
      "text/plain": [
       "(array([[-0.57796699, -0.57796699,  1.7381622 , ..., -0.57796699,\n",
       "          1.7167429 , -0.57796699],\n",
       "        [-0.58857465, -0.58857465,  1.7231335 , ..., -0.55418975,\n",
       "          1.7424324 , -0.58843008],\n",
       "        [-0.58289722, -0.57376097,  1.7534016 , ..., -0.55343748,\n",
       "          1.72404   , -0.58268133],\n",
       "        ...,\n",
       "        [-0.9970767 ,  0.10875577,  1.5859634 , ...,  0.10667751,\n",
       "          1.5893167 , -0.69593052],\n",
       "        [-0.8915895 , -0.75293965,  1.4242306 , ...,  0.48176942,\n",
       "          1.4314065 , -0.74713243],\n",
       "        [-0.84586812, -0.65071132,  1.5612229 , ...,  0.43490056,\n",
       "          1.5531319 , -0.64664617]]),\n",
       " array([9, 9, 9, 9, 9, 9, 9, 9, 9, 9, 3, 3, 3, 3, 3, 3, 3, 3, 3, 3, 4, 4,\n",
       "        4, 4, 4, 4, 4, 4, 4, 4, 0, 0, 0, 0, 0, 0, 0, 0, 0, 0, 6, 6, 6, 6,\n",
       "        6, 6, 6, 6, 6, 6, 5, 5, 5, 5, 5, 5, 5, 5, 5, 5, 2, 2, 2, 2, 2, 2,\n",
       "        2, 2, 2, 2, 8, 8, 8, 8, 8, 8, 8, 8, 8, 8, 7, 7, 7, 7, 7, 7, 7, 7,\n",
       "        7, 7, 1, 1, 1, 1, 1, 1, 1, 1, 1, 1]))"
      ]
     },
     "execution_count": 8,
     "metadata": {},
     "output_type": "execute_result"
    }
   ],
   "source": [
    "df = pd.read_csv(\"../data/UCRArchive_2018/ACSF1/ACSF1_TEST.tsv\", sep=\"\\t\", header=None)\n",
    "\n",
    "y = df[0].values\n",
    "X = df.drop(0, axis=1).values\n",
    "\n",
    "X,y"
   ]
  },
  {
   "cell_type": "code",
   "execution_count": 26,
   "metadata": {},
   "outputs": [
    {
     "name": "stdout",
     "output_type": "stream",
     "text": [
      "Skipping Missing_value_and_variable_length_datasets_adjusted\n"
     ]
    }
   ],
   "source": [
    "import os \n",
    "\n",
    "datasets = {}\n",
    "\n",
    "for dataset in os.listdir(\"../data/UCRArchive_2018/\"):\n",
    "    if dataset == \"Missing_value_and_variable_length_datasets_adjusted\":\n",
    "        print(\"Skipping\", dataset)\n",
    "        continue\n",
    "    curr_dict = {}\n",
    "    for f in os.listdir(f\"../data/UCRArchive_2018/{dataset}\"):\n",
    "        \n",
    "        if f.endswith(\".tsv\"):\n",
    "            df = pd.read_csv(f\"../data/UCRArchive_2018/{dataset}/{f}\", sep=\"\\t\", header=None)\n",
    "            \n",
    "            if \"TEST\"in f:\n",
    "                y = df[0].values\n",
    "                X = df.drop(0, axis=1).values\n",
    "                curr_dict[\"test\"] = (X,y)\n",
    "\n",
    "            elif \"TRAIN\" in f:\n",
    "                y = df[0].values\n",
    "                X = df.drop(0, axis=1).values\n",
    "                curr_dict[\"train\"] = (X,y)\n",
    "            else:\n",
    "                print(\"Skipping\", f)\n",
    "                continue\n",
    "    datasets[dataset] = curr_dict\n",
    "   \n",
    "    \n",
    "        \n",
    "    \n",
    "            \n",
    "            "
   ]
  },
  {
   "cell_type": "code",
   "execution_count": 30,
   "metadata": {},
   "outputs": [
    {
     "data": {
      "text/plain": [
       "(array([[-0.57796699, -0.57796699,  1.7381622 , ..., -0.57796699,\n",
       "          1.7167429 , -0.57796699],\n",
       "        [-0.58857465, -0.58857465,  1.7231335 , ..., -0.55418975,\n",
       "          1.7424324 , -0.58843008],\n",
       "        [-0.58289722, -0.57376097,  1.7534016 , ..., -0.55343748,\n",
       "          1.72404   , -0.58268133],\n",
       "        ...,\n",
       "        [-0.9970767 ,  0.10875577,  1.5859634 , ...,  0.10667751,\n",
       "          1.5893167 , -0.69593052],\n",
       "        [-0.8915895 , -0.75293965,  1.4242306 , ...,  0.48176942,\n",
       "          1.4314065 , -0.74713243],\n",
       "        [-0.84586812, -0.65071132,  1.5612229 , ...,  0.43490056,\n",
       "          1.5531319 , -0.64664617]]),\n",
       " array([9, 9, 9, 9, 9, 9, 9, 9, 9, 9, 3, 3, 3, 3, 3, 3, 3, 3, 3, 3, 4, 4,\n",
       "        4, 4, 4, 4, 4, 4, 4, 4, 0, 0, 0, 0, 0, 0, 0, 0, 0, 0, 6, 6, 6, 6,\n",
       "        6, 6, 6, 6, 6, 6, 5, 5, 5, 5, 5, 5, 5, 5, 5, 5, 2, 2, 2, 2, 2, 2,\n",
       "        2, 2, 2, 2, 8, 8, 8, 8, 8, 8, 8, 8, 8, 8, 7, 7, 7, 7, 7, 7, 7, 7,\n",
       "        7, 7, 1, 1, 1, 1, 1, 1, 1, 1, 1, 1]))"
      ]
     },
     "execution_count": 30,
     "metadata": {},
     "output_type": "execute_result"
    }
   ],
   "source": [
    "datasets[\"ACSF1\"][\"test\"]"
   ]
  },
  {
   "cell_type": "code",
   "execution_count": 40,
   "metadata": {},
   "outputs": [
    {
     "data": {
      "text/plain": [
       "0.1678400546821599"
      ]
     },
     "execution_count": 40,
     "metadata": {},
     "output_type": "execute_result"
    }
   ],
   "source": [
    "df = pd.read_csv(\"../results/LQE/vgg11/classification_report.csv\")\n",
    "# df[\"accuracy\"][0]\n",
    "\n",
    "\n",
    "df[\"macro avg\"][2]"
   ]
  }
 ],
 "metadata": {
  "kernelspec": {
   "display_name": "Python 3 (ipykernel)",
   "language": "python",
   "name": "python3"
  }
 },
 "nbformat": 4,
 "nbformat_minor": 2
}
