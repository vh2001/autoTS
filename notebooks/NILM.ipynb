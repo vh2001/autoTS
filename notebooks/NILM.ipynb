{
 "cells": [
  {
   "cell_type": "code",
   "execution_count": 3,
   "metadata": {},
   "outputs": [],
   "source": [
    "import pandas as pd\n",
    "import os\n",
    "import numpy as np\n"
   ]
  },
  {
   "cell_type": "code",
   "execution_count": 4,
   "metadata": {},
   "outputs": [
    {
     "data": {
      "text/plain": [
       "['SUST1.pkl',\n",
       " 'PRECON.pkl',\n",
       " 'ECO.pkl',\n",
       " 'EEUD.pkl',\n",
       " 'UKDALE.pkl',\n",
       " 'LERTA.pkl',\n",
       " 'IDEAL.pkl',\n",
       " 'REDD.pkl',\n",
       " 'ENERTALK.pkl',\n",
       " 'HEART.pkl',\n",
       " 'HUE.pkl',\n",
       " 'DEDDIAG.pkl',\n",
       " 'REFIT.pkl',\n",
       " 'IAWE.pkl',\n",
       " 'ECDUY.pkl',\n",
       " 'DRED.pkl',\n",
       " 'UCIML.pkl',\n",
       " 'DEKN.pkl',\n",
       " 'HES.pkl',\n",
       " 'SUST2.pkl']"
      ]
     },
     "execution_count": 4,
     "metadata": {},
     "output_type": "execute_result"
    }
   ],
   "source": [
    "path_to_data = \"./Energy_graph/energy-knowledge-graph/data/parsed/\"\n",
    "\n",
    "\n",
    "os.listdir(path_to_data)"
   ]
  },
  {
   "cell_type": "code",
   "execution_count": 11,
   "metadata": {},
   "outputs": [
    {
     "name": "stdout",
     "output_type": "stream",
     "text": [
      "419658\n"
     ]
    }
   ],
   "source": [
    "data = pd.read_pickle(path_to_data + \"HEART.pkl\")\n",
    "\n",
    "timeseries = []\n",
    "count_empty = 0\n",
    "for house, house_dict in data.items():\n",
    "    for appliance in house_dict:\n",
    "        if \"aggregate\" in appliance:\n",
    "            continue\n",
    "\n",
    "        # split the df into 300 length timeseries\n",
    "        df = house_dict[appliance]\n",
    "        \n",
    "        # get the number of timeseries\n",
    "        n_timeseries = len(df) // 300\n",
    "        for i in range(n_timeseries):\n",
    "            cut_out = df[i*300:(i+1)*300].values\n",
    "            y = appliance\n",
    "            # check if the timeseries is of the correct length\n",
    "            if len(cut_out) != 300:\n",
    "                continue\n",
    "\n",
    "            # check if the timeseries is not all zeros\n",
    "            if np.all(cut_out == 0):\n",
    "                count_empty+=1\n",
    "                y = \"empty\"\n",
    "            else:\n",
    "                timeseries.append((cut_out, y))\n",
    "\n",
    "            # check if appliance is on \n",
    "print(count_empty)"
   ]
  }
 ],
 "metadata": {
  "kernelspec": {
   "display_name": "Python 3 (ipykernel)",
   "language": "python",
   "name": "python3"
  },
  "language_info": {
   "codemirror_mode": {
    "name": "ipython",
    "version": 3
   },
   "file_extension": ".py",
   "mimetype": "text/x-python",
   "name": "python",
   "nbconvert_exporter": "python",
   "pygments_lexer": "ipython3",
   "version": "3.10.8"
  }
 },
 "nbformat": 4,
 "nbformat_minor": 2
}
